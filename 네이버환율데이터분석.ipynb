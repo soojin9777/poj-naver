{
 "cells": [
  {
   "cell_type": "markdown",
   "metadata": {},
   "source": [
    "#네이버 환율 데이터 분석\n",
    "- https://finance.naver.com/marketindex/exchangeList.naver\n",
    "\n",
    "#Pandas\n",
    "- 패널 데이터와 Python 데이터 분석의 이름을 따서 명명되었다.\n",
    "- 고수준의 자료구조를 제공, 파이썬을 통해 빠른 데이터 분석 도구\n",
    "- Numpy 기반에서 개발되어 Numpy를 사용하는 애플리케이션을 쉽게 적용할 수 있다.\n",
    "- 오픈 소스 Python 프로젝트\n",
    "\n",
    "#import pandas as pd\n",
    "\n",
    "#Pandas 주요 구성 요소\n",
    "- Series : 1개의 컬럼 값 => 1차원 데이터 셋\n",
    "- DataFrame : Column x Row => 2차원 데이터 셋\n",
    "- Index : Series와  DataFrame의 고유한 key 값"
   ]
  },
  {
   "cell_type": "code",
   "execution_count": null,
   "metadata": {},
   "outputs": [],
   "source": [
    "import pandas as pd\n",
    "print(pd.__version__)"
   ]
  },
  {
   "cell_type": "code",
   "execution_count": null,
   "metadata": {},
   "outputs": [],
   "source": [
    "url = 'https://finance.naver.com/marketindex/exchangeList.naver'"
   ]
  },
  {
   "cell_type": "code",
   "execution_count": null,
   "metadata": {},
   "outputs": [],
   "source": [
    "tables = pd.read_html(url, encoding='euc-kr')"
   ]
  },
  {
   "cell_type": "code",
   "execution_count": null,
   "metadata": {},
   "outputs": [],
   "source": [
    "#엑셀로 저장"
   ]
  },
  {
   "cell_type": "code",
   "execution_count": null,
   "metadata": {},
   "outputs": [],
   "source": [
    "df = tables[0]"
   ]
  },
  {
   "cell_type": "code",
   "execution_count": null,
   "metadata": {},
   "outputs": [],
   "source": [
    "from datetime import datetime\n",
    "datetime.now()"
   ]
  },
  {
   "cell_type": "code",
   "execution_count": null,
   "metadata": {},
   "outputs": [],
   "source": [
    "time = datetime.now()\n",
    "df.to_excel('네이버환율정보_' + time.strftime('%Y-%m-%d') + '.xlsx', index=True)"
   ]
  },
  {
   "cell_type": "code",
   "execution_count": null,
   "metadata": {},
   "outputs": [],
   "source": [
    "import matplotlib.font_manager as fm\n",
    "import matplotlib.pyplot as plt\n",
    "import matplotlib\n",
    "from matplotlib import rc\n",
    "\n",
    "path = \"../malgun.ttf\"\n",
    "font_name = fm.FontProperties(fname=path).get_name()\n",
    "matplotlib.rc('font', family=font_name)\n",
    "plt.rc('font', family=\"Malgun Gothic\")"
   ]
  },
  {
   "cell_type": "code",
   "execution_count": null,
   "metadata": {},
   "outputs": [],
   "source": [
    "#환율 정보 시각화\n",
    "\n",
    "df.plot(figsize=(7, 4), title='네이버환율정보', grid=True)"
   ]
  },
  {
   "cell_type": "code",
   "execution_count": null,
   "metadata": {},
   "outputs": [],
   "source": [
    "import matplotlib"
   ]
  }
 ],
 "metadata": {
  "kernelspec": {
   "display_name": "pythonbasic",
   "language": "python",
   "name": "python3"
  },
  "language_info": {
   "codemirror_mode": {
    "name": "ipython",
    "version": 3
   },
   "file_extension": ".py",
   "mimetype": "text/x-python",
   "name": "python",
   "nbconvert_exporter": "python",
   "pygments_lexer": "ipython3",
   "version": "3.9.0"
  }
 },
 "nbformat": 4,
 "nbformat_minor": 2
}
